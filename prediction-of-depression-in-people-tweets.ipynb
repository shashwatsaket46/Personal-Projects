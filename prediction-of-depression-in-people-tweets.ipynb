{
 "cells": [
  {
   "cell_type": "markdown",
   "metadata": {},
   "source": [
    "#  **Explaining the Dataset**\n",
    " We took a dataset containing numerous tweets from the twitter users. And here our aim is to detect or rather the better term would be to predict the depression amongst them. Here, first we will import some of the library frequently used to import data and perform some of the basic data operation. So for simplicity, we will import pandas for EDA, matplotlib and seaborn for visualization, os for operating system operations. "
   ]
  },
  {
   "cell_type": "code",
   "execution_count": 3,
   "metadata": {
    "execution": {
     "iopub.execute_input": "2022-08-26T18:34:35.724573Z",
     "iopub.status.busy": "2022-08-26T18:34:35.723916Z",
     "iopub.status.idle": "2022-08-26T18:34:35.872775Z",
     "shell.execute_reply": "2022-08-26T18:34:35.871993Z",
     "shell.execute_reply.started": "2022-08-26T18:34:35.724541Z"
    }
   },
   "outputs": [],
   "source": [
    "import pandas as pd # data processing, CSV file I/O (e.g. pd.read_csv)\n",
    "import matplotlib.pyplot as plt\n",
    "import seaborn as sns\n",
    "import os\n",
    "for dirname, _, filenames in os.walk('/kaggle/input'):\n",
    "    for filename in filenames:\n",
    "        print(os.path.join(dirname, filename))"
   ]
  },
  {
   "cell_type": "code",
   "execution_count": 4,
   "metadata": {
    "execution": {
     "iopub.execute_input": "2022-08-26T18:34:35.873917Z",
     "iopub.status.busy": "2022-08-26T18:34:35.873701Z",
     "iopub.status.idle": "2022-08-26T18:34:36.007459Z",
     "shell.execute_reply": "2022-08-26T18:34:36.006166Z",
     "shell.execute_reply.started": "2022-08-26T18:34:35.873896Z"
    }
   },
   "outputs": [],
   "source": [
    "data=pd.read_csv(\"/kaggle/input/mental-health-social-media/Mental-Health-Twitter.csv\",index_col=0)"
   ]
  },
  {
   "cell_type": "code",
   "execution_count": 5,
   "metadata": {
    "execution": {
     "iopub.execute_input": "2022-08-26T18:34:36.009459Z",
     "iopub.status.busy": "2022-08-26T18:34:36.009197Z",
     "iopub.status.idle": "2022-08-26T18:34:36.024550Z",
     "shell.execute_reply": "2022-08-26T18:34:36.023251Z",
     "shell.execute_reply.started": "2022-08-26T18:34:36.009437Z"
    }
   },
   "outputs": [],
   "source": [
    "data.head()"
   ]
  },
  {
   "cell_type": "markdown",
   "metadata": {},
   "source": [
    "#  Giving an overview of the data and getting simple data understanding \n",
    "Here the data  contains columns like post_created which is a date-time data, post-text which is a text data corpus from the actual tweets, user_id,post_id, followers and friends of the respective data. The count of favorite contents of the user in twitter as well as their status, retweets, and the output as label which determines that this is a problem of a supervised learning.  "
   ]
  },
  {
   "cell_type": "code",
   "execution_count": 6,
   "metadata": {
    "execution": {
     "iopub.execute_input": "2022-08-26T18:34:36.025787Z",
     "iopub.status.busy": "2022-08-26T18:34:36.025570Z",
     "iopub.status.idle": "2022-08-26T18:34:36.158784Z",
     "shell.execute_reply": "2022-08-26T18:34:36.158088Z",
     "shell.execute_reply.started": "2022-08-26T18:34:36.025765Z"
    }
   },
   "outputs": [],
   "source": [
    "sns.countplot(data=data,x='label')"
   ]
  },
  {
   "cell_type": "markdown",
   "metadata": {},
   "source": [
    "From the above plot, it is obvious that the dataset is balanced which means that the number of depressed people and non-depressed people are appearing to be equally distributed in this specific dataset."
   ]
  },
  {
   "cell_type": "code",
   "execution_count": 7,
   "metadata": {
    "execution": {
     "iopub.execute_input": "2022-08-26T18:34:36.160117Z",
     "iopub.status.busy": "2022-08-26T18:34:36.159710Z",
     "iopub.status.idle": "2022-08-26T18:34:36.219966Z",
     "shell.execute_reply": "2022-08-26T18:34:36.218899Z",
     "shell.execute_reply.started": "2022-08-26T18:34:36.160090Z"
    }
   },
   "outputs": [],
   "source": [
    "import re\n",
    "import nltk\n",
    "nltk.download('omw-1.4')"
   ]
  },
  {
   "cell_type": "markdown",
   "metadata": {},
   "source": [
    "We here are going to take up an approach of natural language processing. So we will be importing re module which is a regular expression modules and nltk module which is an NLP library for working with the text."
   ]
  },
  {
   "cell_type": "code",
   "execution_count": 8,
   "metadata": {
    "execution": {
     "iopub.execute_input": "2022-08-26T18:34:36.223201Z",
     "iopub.status.busy": "2022-08-26T18:34:36.222416Z",
     "iopub.status.idle": "2022-08-26T18:34:36.227678Z",
     "shell.execute_reply": "2022-08-26T18:34:36.226790Z",
     "shell.execute_reply.started": "2022-08-26T18:34:36.223170Z"
    }
   },
   "outputs": [],
   "source": [
    "nltk.download(\"stopwords\")\n",
    "from nltk.corpus import stopwords"
   ]
  },
  {
   "cell_type": "code",
   "execution_count": 9,
   "metadata": {
    "execution": {
     "iopub.execute_input": "2022-08-26T18:34:36.228932Z",
     "iopub.status.busy": "2022-08-26T18:34:36.228667Z",
     "iopub.status.idle": "2022-08-26T18:34:36.238608Z",
     "shell.execute_reply": "2022-08-26T18:34:36.237988Z",
     "shell.execute_reply.started": "2022-08-26T18:34:36.228910Z"
    }
   },
   "outputs": [],
   "source": [
    "lemm=nltk.WordNetLemmatizer()"
   ]
  },
  {
   "cell_type": "code",
   "execution_count": 10,
   "metadata": {
    "execution": {
     "iopub.execute_input": "2022-08-26T18:34:36.240536Z",
     "iopub.status.busy": "2022-08-26T18:34:36.239802Z",
     "iopub.status.idle": "2022-08-26T18:34:47.655909Z",
     "shell.execute_reply": "2022-08-26T18:34:47.654987Z",
     "shell.execute_reply.started": "2022-08-26T18:34:36.240504Z"
    }
   },
   "outputs": [],
   "source": [
    "text_list=[]\n",
    "for text in data.post_text:\n",
    "    des=re.sub('[^A-Za-z]',' ',text)\n",
    "    des=des.lower()\n",
    "    des=nltk.word_tokenize(text)\n",
    "    des=[lemm.lemmatize(word) for word in text]\n",
    "    des=''.join(des)\n",
    "    text_list.append(des)"
   ]
  },
  {
   "cell_type": "markdown",
   "metadata": {},
   "source": [
    "# Operations performed in the post_text dataset\n",
    "In this, we first removed the words without letters, and also the random white spaces are removed used regular expressions. Next we changed the words into lowercase so that all the words get in equal composition. Then we performed the word_tokenizer so that the words are converted into tokens. Then we cleaning the extra words using lemmatizer. And further joined the word obtained in the text_list."
   ]
  },
  {
   "cell_type": "code",
   "execution_count": 11,
   "metadata": {
    "execution": {
     "iopub.execute_input": "2022-08-26T18:34:47.657790Z",
     "iopub.status.busy": "2022-08-26T18:34:47.657543Z",
     "iopub.status.idle": "2022-08-26T18:34:47.997123Z",
     "shell.execute_reply": "2022-08-26T18:34:47.995834Z",
     "shell.execute_reply.started": "2022-08-26T18:34:47.657768Z"
    }
   },
   "outputs": [],
   "source": [
    "from sklearn.feature_extraction.text import CountVectorizer\n",
    "count_vectorizer=CountVectorizer(max_features=800,stop_words=\"english\")\n",
    "sparce_matrix=count_vectorizer.fit_transform(text_list).toarray()"
   ]
  },
  {
   "cell_type": "code",
   "execution_count": 12,
   "metadata": {
    "execution": {
     "iopub.execute_input": "2022-08-26T18:34:47.998385Z",
     "iopub.status.busy": "2022-08-26T18:34:47.998176Z",
     "iopub.status.idle": "2022-08-26T18:34:48.002641Z",
     "shell.execute_reply": "2022-08-26T18:34:48.001572Z",
     "shell.execute_reply.started": "2022-08-26T18:34:47.998364Z"
    }
   },
   "outputs": [],
   "source": [
    "X=sparce_matrix\n",
    "y=data['label'].values"
   ]
  },
  {
   "cell_type": "code",
   "execution_count": 13,
   "metadata": {
    "execution": {
     "iopub.execute_input": "2022-08-26T18:34:48.004377Z",
     "iopub.status.busy": "2022-08-26T18:34:48.004048Z",
     "iopub.status.idle": "2022-08-26T18:34:48.045821Z",
     "shell.execute_reply": "2022-08-26T18:34:48.045094Z",
     "shell.execute_reply.started": "2022-08-26T18:34:48.004340Z"
    }
   },
   "outputs": [],
   "source": [
    "from sklearn.model_selection import train_test_split\n",
    "\n",
    "X_train,X_test,y_train,y_test=train_test_split(X,y,test_size=0.3,random_state=42)"
   ]
  },
  {
   "cell_type": "markdown",
   "metadata": {},
   "source": [
    "# Applying Logistic Regression"
   ]
  },
  {
   "cell_type": "code",
   "execution_count": 15,
   "metadata": {
    "execution": {
     "iopub.execute_input": "2022-08-26T18:52:58.516568Z",
     "iopub.status.busy": "2022-08-26T18:52:58.516269Z",
     "iopub.status.idle": "2022-08-26T18:52:59.381921Z",
     "shell.execute_reply": "2022-08-26T18:52:59.381114Z",
     "shell.execute_reply.started": "2022-08-26T18:52:58.516546Z"
    }
   },
   "outputs": [],
   "source": [
    "from sklearn.linear_model import LogisticRegression\n",
    "lr=LogisticRegression()\n",
    "lr.fit(X_train,y_train)"
   ]
  },
  {
   "cell_type": "code",
   "execution_count": 21,
   "metadata": {
    "execution": {
     "iopub.execute_input": "2022-08-26T18:55:16.833122Z",
     "iopub.status.busy": "2022-08-26T18:55:16.832801Z",
     "iopub.status.idle": "2022-08-26T18:55:16.873957Z",
     "shell.execute_reply": "2022-08-26T18:55:16.873212Z",
     "shell.execute_reply.started": "2022-08-26T18:55:16.833097Z"
    }
   },
   "outputs": [],
   "source": [
    "print('The train Score for Logistic Regression is: ',lr.score(X_train,y_train))\n",
    "print('The test score for Logistic Regression is: ', lr.score(X_test,y_test))"
   ]
  },
  {
   "cell_type": "markdown",
   "metadata": {},
   "source": [
    "# Applying Support Vector Machine"
   ]
  },
  {
   "cell_type": "code",
   "execution_count": 49,
   "metadata": {
    "execution": {
     "iopub.execute_input": "2022-08-26T19:26:41.440895Z",
     "iopub.status.busy": "2022-08-26T19:26:41.440572Z",
     "iopub.status.idle": "2022-08-26T19:26:41.446181Z",
     "shell.execute_reply": "2022-08-26T19:26:41.445009Z",
     "shell.execute_reply.started": "2022-08-26T19:26:41.440871Z"
    }
   },
   "outputs": [],
   "source": [
    "from sklearn.svm import SVC\n",
    "sv=SVC(C=0.73,kernel='rbf',degree=4)"
   ]
  },
  {
   "cell_type": "code",
   "execution_count": null,
   "metadata": {
    "execution": {
     "iopub.execute_input": "2022-08-26T19:26:42.090106Z",
     "iopub.status.busy": "2022-08-26T19:26:42.089793Z"
    }
   },
   "outputs": [],
   "source": [
    "sv.fit(X_train,y_train)"
   ]
  },
  {
   "cell_type": "code",
   "execution_count": null,
   "metadata": {},
   "outputs": [],
   "source": [
    "sv.score(X_train,y_train)\n"
   ]
  },
  {
   "cell_type": "code",
   "execution_count": 25,
   "metadata": {
    "execution": {
     "iopub.execute_input": "2022-08-26T19:00:52.270332Z",
     "iopub.status.busy": "2022-08-26T19:00:52.269896Z",
     "iopub.status.idle": "2022-08-26T19:01:25.582388Z",
     "shell.execute_reply": "2022-08-26T19:01:25.581521Z",
     "shell.execute_reply.started": "2022-08-26T19:00:52.270297Z"
    }
   },
   "outputs": [],
   "source": [
    "sv.score(X_test,y_test)"
   ]
  },
  {
   "cell_type": "markdown",
   "metadata": {},
   "source": [
    "# Applying Deep Learning Techniques"
   ]
  },
  {
   "cell_type": "code",
   "execution_count": 26,
   "metadata": {
    "execution": {
     "iopub.execute_input": "2022-08-26T19:02:15.780338Z",
     "iopub.status.busy": "2022-08-26T19:02:15.779160Z",
     "iopub.status.idle": "2022-08-26T19:02:20.480515Z",
     "shell.execute_reply": "2022-08-26T19:02:20.479520Z",
     "shell.execute_reply.started": "2022-08-26T19:02:15.780296Z"
    }
   },
   "outputs": [],
   "source": [
    "from tensorflow import keras\n",
    "import tensorflow as tf"
   ]
  },
  {
   "cell_type": "code",
   "execution_count": 34,
   "metadata": {
    "execution": {
     "iopub.execute_input": "2022-08-26T19:14:37.860556Z",
     "iopub.status.busy": "2022-08-26T19:14:37.860340Z",
     "iopub.status.idle": "2022-08-26T19:14:37.869809Z",
     "shell.execute_reply": "2022-08-26T19:14:37.868908Z",
     "shell.execute_reply.started": "2022-08-26T19:14:37.860535Z"
    }
   },
   "outputs": [],
   "source": [
    "model = keras.Sequential(\n",
    "    [\n",
    "        tf.keras.layers.Dense(512, activation=\"relu\", name=\"layer1\"),\n",
    "        tf.keras.layers.Dense(512, activation=\"relu\", name=\"layer2\"),\n",
    "        tf.keras.layers.Dense(2, name=\"layer3\"),\n",
    "    ]\n",
    ")"
   ]
  },
  {
   "cell_type": "code",
   "execution_count": 35,
   "metadata": {
    "execution": {
     "iopub.execute_input": "2022-08-26T19:14:50.914749Z",
     "iopub.status.busy": "2022-08-26T19:14:50.913779Z",
     "iopub.status.idle": "2022-08-26T19:14:50.922482Z",
     "shell.execute_reply": "2022-08-26T19:14:50.921727Z",
     "shell.execute_reply.started": "2022-08-26T19:14:50.914723Z"
    }
   },
   "outputs": [],
   "source": [
    "model.compile(optimizer=\"Adam\", loss=\"mse\", metrics=[\"mae\"])"
   ]
  },
  {
   "cell_type": "code",
   "execution_count": 43,
   "metadata": {
    "execution": {
     "iopub.execute_input": "2022-08-26T19:21:02.450219Z",
     "iopub.status.busy": "2022-08-26T19:21:02.449852Z",
     "iopub.status.idle": "2022-08-26T19:23:24.414877Z",
     "shell.execute_reply": "2022-08-26T19:23:24.413685Z",
     "shell.execute_reply.started": "2022-08-26T19:21:02.450194Z"
    }
   },
   "outputs": [],
   "source": [
    "history=model.fit(X_train, y_train, epochs=50, verbose=1)"
   ]
  },
  {
   "cell_type": "code",
   "execution_count": 44,
   "metadata": {
    "execution": {
     "iopub.execute_input": "2022-08-26T19:23:24.416697Z",
     "iopub.status.busy": "2022-08-26T19:23:24.416465Z",
     "iopub.status.idle": "2022-08-26T19:23:24.824763Z",
     "shell.execute_reply": "2022-08-26T19:23:24.823704Z",
     "shell.execute_reply.started": "2022-08-26T19:23:24.416676Z"
    }
   },
   "outputs": [],
   "source": [
    "loss, acc = model.evaluate(X_test, y_test, verbose=1)"
   ]
  },
  {
   "cell_type": "code",
   "execution_count": 48,
   "metadata": {
    "execution": {
     "iopub.execute_input": "2022-08-26T19:24:22.795184Z",
     "iopub.status.busy": "2022-08-26T19:24:22.794856Z",
     "iopub.status.idle": "2022-08-26T19:24:22.902576Z",
     "shell.execute_reply": "2022-08-26T19:24:22.901752Z",
     "shell.execute_reply.started": "2022-08-26T19:24:22.795161Z"
    }
   },
   "outputs": [],
   "source": [
    "import matplotlib.pyplot as plt\n",
    "plt.plot(history.history['loss'],label='X_train')\n"
   ]
  }
 ],
 "metadata": {
  "kernelspec": {
   "display_name": "Python 3 (ipykernel)",
   "language": "python",
   "name": "python3"
  },
  "language_info": {
   "codemirror_mode": {
    "name": "ipython",
    "version": 3
   },
   "file_extension": ".py",
   "mimetype": "text/x-python",
   "name": "python",
   "nbconvert_exporter": "python",
   "pygments_lexer": "ipython3",
   "version": "3.9.7"
  }
 },
 "nbformat": 4,
 "nbformat_minor": 4
}
